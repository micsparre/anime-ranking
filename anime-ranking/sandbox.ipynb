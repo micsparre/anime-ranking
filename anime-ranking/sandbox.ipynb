{
 "cells": [
  {
   "cell_type": "code",
   "execution_count": 1,
   "metadata": {},
   "outputs": [],
   "source": [
    "import requests"
   ]
  },
  {
   "cell_type": "code",
   "execution_count": 2,
   "metadata": {},
   "outputs": [],
   "source": [
    "# Here we define our query as a multi-line string\n",
    "query = '''\n",
    "query ($query: String) {\n",
    "  AnimeSearch: Page {\n",
    "    media(search: $query, type: ANIME) {\n",
    "      id\n",
    "      title {\n",
    "        english\n",
    "      }\n",
    "      coverImage {\n",
    "        large\n",
    "      }\n",
    "    }\n",
    "  }\n",
    "}\n",
    "'''\n",
    "\n",
    "# Define our query variables and values that will be used in the query request\n",
    "variables = {\n",
    "    'query': \"My Hero Academia\"\n",
    "}\n",
    "\n",
    "url = 'https://graphql.anilist.co'\n"
   ]
  },
  {
   "cell_type": "code",
   "execution_count": 3,
   "metadata": {},
   "outputs": [
    {
     "name": "stdout",
     "output_type": "stream",
     "text": [
      "{'data': {'AnimeSearch': {'media': [{'id': 21459, 'title': {'english': 'My Hero Academia'}, 'coverImage': {'large': 'https://s4.anilist.co/file/anilistcdn/media/anime/cover/medium/bx21459-DUKLgasrgeNO.jpg'}}, {'id': 100723, 'title': {'english': 'My Hero Academia: Two Heroes'}, 'coverImage': {'large': 'https://s4.anilist.co/file/anilistcdn/media/anime/cover/medium/bx100723-7f5e1BCTCDoB.jpg'}}, {'id': 104276, 'title': {'english': 'My Hero Academia Season 4'}, 'coverImage': {'large': 'https://s4.anilist.co/file/anilistcdn/media/anime/cover/medium/bx104276-SnEowMvesWIE.png'}}, {'id': 163139, 'title': {'english': None}, 'coverImage': {'large': 'https://s4.anilist.co/file/anilistcdn/media/anime/cover/medium/bx163139-ThYLh18gs0St.jpg'}}, {'id': 117193, 'title': {'english': 'My Hero Academia Season 5'}, 'coverImage': {'large': 'https://s4.anilist.co/file/anilistcdn/media/anime/cover/medium/bx117193-E75BlZmDh1aB.jpg'}}, {'id': 100166, 'title': {'english': 'My Hero Academia Season 3'}, 'coverImage': {'large': 'https://s4.anilist.co/file/anilistcdn/media/anime/cover/medium/bx100166-jUCZYbzn2XLw.jpg'}}, {'id': 139630, 'title': {'english': 'My Hero Academia Season 6'}, 'coverImage': {'large': 'https://s4.anilist.co/file/anilistcdn/media/anime/cover/medium/bx139630-2Nvd1vqQ52Ik.jpg'}}, {'id': 21856, 'title': {'english': 'My Hero Academia Season 2'}, 'coverImage': {'large': 'https://s4.anilist.co/file/anilistcdn/media/anime/cover/medium/bx21856-gutauxhWAwn6.png'}}, {'id': 108553, 'title': {'english': 'My Hero Academia: Heroes Rising'}, 'coverImage': {'large': 'https://s4.anilist.co/file/anilistcdn/media/anime/cover/medium/bx108553-yOLfFogpWnTF.jpg'}}, {'id': 168013, 'title': {'english': None}, 'coverImage': {'large': 'https://s4.anilist.co/file/anilistcdn/media/anime/cover/medium/bx168013-t54JWTotNbu9.jpg'}}, {'id': 126659, 'title': {'english': \"My Hero Academia: World Heroes' Mission\"}, 'coverImage': {'large': 'https://s4.anilist.co/file/anilistcdn/media/anime/cover/medium/bx126659-i6c1PsXHGyke.jpg'}}, {'id': 130183, 'title': {'english': None}, 'coverImage': {'large': 'https://s4.anilist.co/file/anilistcdn/media/anime/cover/medium/bx130183-F68jrVVGNt0n.jpg'}}, {'id': 149073, 'title': {'english': 'My Hero Academia Season 5 OVA'}, 'coverImage': {'large': 'https://s4.anilist.co/file/anilistcdn/media/anime/cover/medium/bx149073-ATpEgEZNDheZ.jpg'}}, {'id': 87486, 'title': {'english': None}, 'coverImage': {'large': 'https://s4.anilist.co/file/anilistcdn/media/anime/cover/medium/bx87486-RN58UaoCSALB.png'}}, {'id': 105893, 'title': {'english': 'My Hero Academia the Movie: Two Heroes Specials'}, 'coverImage': {'large': 'https://s4.anilist.co/file/anilistcdn/media/anime/cover/medium/bx105893-IW5rW9O9auyK.jpg'}}, {'id': 126661, 'title': {'english': None}, 'coverImage': {'large': 'https://s4.anilist.co/file/anilistcdn/media/anime/cover/medium/bx126661-61SI7n5njMNM.jpg'}}, {'id': 142411, 'title': {'english': None}, 'coverImage': {'large': 'https://s4.anilist.co/file/anilistcdn/media/anime/cover/medium/bx142411-Hb2c6mMLs6Jb.png'}}, {'id': 122349, 'title': {'english': 'My Hero Academia: Make It! Do-or-Die Survival Training'}, 'coverImage': {'large': 'https://s4.anilist.co/file/anilistcdn/media/anime/cover/medium/bx122349-DkEdG7N1231n.jpg'}}]}}}\n"
     ]
    },
    {
     "name": "stderr",
     "output_type": "stream",
     "text": [
      "/Users/msparre/.virtualenvs/anime-ranking/lib/python3.7/site-packages/urllib3/connectionpool.py:1102: InsecureRequestWarning: Unverified HTTPS request is being made to host 'graphql.anilist.co'. Adding certificate verification is strongly advised. See: https://urllib3.readthedocs.io/en/latest/advanced-usage.html#tls-warnings\n",
      "  InsecureRequestWarning,\n"
     ]
    }
   ],
   "source": [
    "# Make the HTTP Api request\n",
    "response = requests.post(url, json={'query': query, 'variables': variables}, verify=False)\n",
    "\n",
    "# parse response\n",
    "print(response.json())"
   ]
  },
  {
   "cell_type": "code",
   "execution_count": null,
   "metadata": {},
   "outputs": [],
   "source": []
  }
 ],
 "metadata": {
  "kernelspec": {
   "display_name": "anime-ranking",
   "language": "python",
   "name": "python3"
  },
  "language_info": {
   "codemirror_mode": {
    "name": "ipython",
    "version": 3
   },
   "file_extension": ".py",
   "mimetype": "text/x-python",
   "name": "python",
   "nbconvert_exporter": "python",
   "pygments_lexer": "ipython3",
   "version": "3.7.9"
  },
  "orig_nbformat": 4
 },
 "nbformat": 4,
 "nbformat_minor": 2
}
