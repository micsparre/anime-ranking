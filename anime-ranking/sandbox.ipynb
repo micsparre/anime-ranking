{
 "cells": [
  {
   "cell_type": "code",
   "execution_count": 1,
   "metadata": {},
   "outputs": [],
   "source": [
    "import requests"
   ]
  },
  {
   "cell_type": "code",
   "execution_count": 3,
   "metadata": {},
   "outputs": [],
   "source": [
    "# Here we define our query as a multi-line string\n",
    "query = '''\n",
    "query ($query: String) {\n",
    "  AnimeSearch: Page {\n",
    "    media(search: $query, type: ANIME) {\n",
    "      id\n",
    "      title {\n",
    "        english\n",
    "      }\n",
    "      coverImage {\n",
    "        large\n",
    "      }\n",
    "    }\n",
    "  }\n",
    "}\n",
    "'''\n",
    "\n",
    "# Define our query variables and values that will be used in the query request\n",
    "variables = {\n",
    "    'query': \"My Hero Academia\"\n",
    "}\n",
    "\n",
    "url = 'https://graphql.anilist.co'\n"
   ]
  },
  {
   "cell_type": "code",
   "execution_count": null,
   "metadata": {},
   "outputs": [],
   "source": [
    "# Make the HTTP Api request\n",
    "response = requests.post(url, json={'query': query, 'variables': variables})\n",
    "\n",
    "# parse response\n",
    "print(response.json())"
   ]
  }
 ],
 "metadata": {
  "kernelspec": {
   "display_name": "anime-ranking",
   "language": "python",
   "name": "python3"
  },
  "language_info": {
   "codemirror_mode": {
    "name": "ipython",
    "version": 3
   },
   "file_extension": ".py",
   "mimetype": "text/x-python",
   "name": "python",
   "nbconvert_exporter": "python",
   "pygments_lexer": "ipython3",
   "version": "3.10.12"
  },
  "orig_nbformat": 4
 },
 "nbformat": 4,
 "nbformat_minor": 2
}
